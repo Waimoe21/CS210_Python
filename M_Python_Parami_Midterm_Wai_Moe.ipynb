{
  "nbformat": 4,
  "nbformat_minor": 0,
  "metadata": {
    "colab": {
      "provenance": [],
      "collapsed_sections": []
    },
    "kernelspec": {
      "name": "python3",
      "display_name": "Python 3"
    },
    "language_info": {
      "name": "python"
    }
  },
  "cells": [
    {
      "cell_type": "markdown",
      "source": [
        "1) Write a Python program to create a dictionary that count the frequency of words in the string given in Q1.txt. Find the most frequent occured word."
      ],
      "metadata": {
        "id": "bBSbIZTtW7q4"
      }
    },
    {
      "cell_type": "code",
      "execution_count": 6,
      "metadata": {
        "id": "l6y53V9ZWzox",
        "colab": {
          "base_uri": "https://localhost:8080/"
        },
        "outputId": "159357e2-2e18-4749-bc05-579c733d632f"
      },
      "outputs": [
        {
          "output_type": "stream",
          "name": "stdout",
          "text": [
            "Dictionary:  {'i': 4, 'love': 1, 'this': 1, 'movie': 1, 'it': 5, 'is': 1, 'sweet,': 1, 'but': 1, 'with': 1, 'satirical': 1, 'humor': 1, 'the': 4, 'dialogs': 1, 'are': 2, 'great': 1, 'and': 4, 'adventure': 1, 'scenes': 1, 'fun': 1, 'manages': 1, 'to': 3, 'be': 1, 'romantic': 1, 'whimsical': 1, 'while': 1, 'laughingat': 1, 'conventions': 1, 'of': 1, 'fairy': 1, 'tale': 1, 'genre': 1, 'would': 1, 'recommend': 1, 'just': 1, 'about': 1, 'anyone': 1, 'have': 1, 'seen': 1, 'several': 1, 'times': 1, 'am': 1, 'always': 1, 'happy': 1, 'see': 1, 'again': 2}\n",
            "Most frequent word: it\n"
          ]
        }
      ],
      "source": [
        "#step 1: read content from Q1.txt into list\n",
        "with open('Q1.txt', 'r') as file1:\n",
        "  #clean full stops, lower case, and clean special symbols\n",
        "    wordlist = file1.read()\n",
        "    lowercase=wordlist.lower()\n",
        "    clean=lowercase.replace('.','')\n",
        "    clean2=clean.replace('!','')\n",
        "strip_list=clean2.split()\n",
        "\n",
        "#Step 2:creat an empty dictionary\n",
        "my_dict={}\n",
        "#Step 3:loop the list/count the frequency of each element/update into the dictionary \n",
        "for word in strip_list:\n",
        "  frequency=strip_list.count(word)\n",
        "  my_dict.update({word:frequency})\n",
        "#Step 4: access the key by its value\n",
        "b=max(my_dict, key=my_dict.get)\n",
        "\n",
        "#Step 5: print\n",
        "print('Dictionary: ', my_dict)\n",
        "print('Most frequent word:',b)"
      ]
    },
    {
      "cell_type": "code",
      "source": [],
      "metadata": {
        "id": "zAA7EmM8Qmv0"
      },
      "execution_count": null,
      "outputs": []
    },
    {
      "cell_type": "markdown",
      "source": [
        "# New Section"
      ],
      "metadata": {
        "id": "bP73tti9QYmM"
      }
    },
    {
      "cell_type": "markdown",
      "source": [
        "2) Write a Python program to read the name from Q2.txt and create email using domain 'parami.edu.mm' and save the results as dictionary : \n",
        "{'name': 'name@parami.edu.mm'}.\n",
        "Please take note that your email should not include space or any special characters and all charcters should be in lowercase. "
      ],
      "metadata": {
        "id": "aQP7q021Xr9W"
      }
    },
    {
      "cell_type": "code",
      "source": [
        "#step 1: read Q2. txt into the list\n",
        "with open ('Q2.txt', 'r') as names:\n",
        "    header = names.readline()\n",
        "    namelist = names.readlines()\n",
        "#step 2: create an empty dictionary\n",
        "my_dict2={}\n",
        "#loop the namelist to access each names in the list\n",
        "for names in namelist:\n",
        "#clean special charaters with replace function\n",
        "  clean=names.replace('\\n','')\n",
        "  #clean spaces\n",
        "  clean2=clean.replace(' ','')\n",
        "  #lower case and add the domain\n",
        "  acc_name=clean2.lower()+'@parami.edu.mm'\n",
        "  my_dict2.update({clean:acc_name})\n",
        "  #print\n",
        "print(my_dict2)\n",
        "\n"
      ],
      "metadata": {
        "id": "2B2TGvQCXuR3",
        "colab": {
          "base_uri": "https://localhost:8080/"
        },
        "outputId": "436efaa0-5313-4a44-dfd8-b79a5c38b0e9"
      },
      "execution_count": 4,
      "outputs": [
        {
          "output_type": "stream",
          "name": "stdout",
          "text": [
            "{'Dechen Dorji': 'dechendorji@parami.edu.mm', 'Deki Tshomo': 'dekitshomo@parami.edu.mm', 'Dorji Tshering': 'dorjitshering@parami.edu.mm', 'Dorji Wangmo': 'dorjiwangmo@parami.edu.mm', 'Gem Tshering Lepcha': 'gemtsheringlepcha@parami.edu.mm', 'Jigme Dorji': 'jigmedorji@parami.edu.mm', 'Kinley Cheki': 'kinleycheki@parami.edu.mm', 'Kinley Wangmo': 'kinleywangmo@parami.edu.mm', 'Ngawang Dema Karpo': 'ngawangdemakarpo@parami.edu.mm', 'Roshan Chhetri': 'roshanchhetri@parami.edu.mm', 'Sonam Tenzin': 'sonamtenzin@parami.edu.mm', 'Sonam Tobgay': 'sonamtobgay@parami.edu.mm', 'Sonam Yangden': 'sonamyangden@parami.edu.mm', 'Tandin Om': 'tandinom@parami.edu.mm', 'Tandin Wangchuk': 'tandinwangchuk@parami.edu.mm', 'Tashi Om': 'tashiom@parami.edu.mm', 'Tenday Zangmo': 'tendayzangmo@parami.edu.mm', 'Tshering Pem': 'tsheringpem@parami.edu.mm', 'Ugyen Phurpa': 'ugyenphurpa@parami.edu.mm', 'Marmitt': 'marmitt@parami.edu.mm'}\n"
          ]
        }
      ]
    }
  ]
}